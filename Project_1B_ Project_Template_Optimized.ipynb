{
 "cells": [
  {
   "cell_type": "markdown",
   "metadata": {
    "editable": true
   },
   "source": [
    "# Part I. ETL Pipeline for Pre-Processing the Files"
   ]
  },
  {
   "cell_type": "markdown",
   "metadata": {
    "editable": true
   },
   "source": [
    "## PLEASE RUN THE FOLLOWING CODE FOR PRE-PROCESSING THE FILES"
   ]
  },
  {
   "cell_type": "markdown",
   "metadata": {
    "editable": true
   },
   "source": [
    "#### Import Python packages "
   ]
  },
  {
   "cell_type": "code",
   "execution_count": 35,
   "metadata": {
    "editable": true
   },
   "outputs": [],
   "source": [
    "# Top packages - stdlib, bottom packages - 3rd party\n",
    "import re\n",
    "import os\n",
    "import glob\n",
    "import time\n",
    "import json\n",
    "import csv\n",
    "import traceback\n",
    "import numpy as np\n",
    "import pandas as pd\n",
    "import cassandra"
   ]
  },
  {
   "cell_type": "markdown",
   "metadata": {
    "editable": true
   },
   "source": [
    "#### Creating list of filepaths to process original event csv data files"
   ]
  },
  {
   "cell_type": "code",
   "execution_count": 36,
   "metadata": {
    "editable": true
   },
   "outputs": [
    {
     "name": "stdout",
     "output_type": "stream",
     "text": [
      "/home/workspace\n"
     ]
    }
   ],
   "source": [
    "start_time = time.time()\n",
    "\n",
    "# checking your current working directory\n",
    "print(os.getcwd())\n",
    "\n",
    "# Get your current folder and subfolder event data\n",
    "filepath = os.getcwd() + '/event_data'\n",
    "\n",
    "# Create a for loop to create a list of files and collect each filepath\n",
    "for root, dirs, files in os.walk(filepath):\n",
    "    \n",
    "# join the file path and roots with the subdirectories using glob\n",
    "    file_path_list = glob.glob(os.path.join(root,'*'))\n"
   ]
  },
  {
   "cell_type": "markdown",
   "metadata": {
    "editable": true
   },
   "source": [
    "#### Processing the files to create the data file csv that will be used for Apache Casssandra tables"
   ]
  },
  {
   "cell_type": "code",
   "execution_count": 37,
   "metadata": {
    "editable": true
   },
   "outputs": [
    {
     "name": "stdout",
     "output_type": "stream",
     "text": [
      "Row count: 8056\n"
     ]
    }
   ],
   "source": [
    "# initiating an empty list of rows that will be generated from each file\n",
    "full_data_rows_list = [] \n",
    "    \n",
    "# for every filepath in the file path list \n",
    "for f in file_path_list:\n",
    "    # reading csv file \n",
    "    with open(f, 'r', encoding = 'utf8', newline='') as csvfile: \n",
    "        # creating a csv reader object \n",
    "        csvreader = csv.reader(csvfile) \n",
    "        next(csvreader)\n",
    "        \n",
    "     # extracting each data row one by one and append it        \n",
    "        for line in csvreader:\n",
    "            #print(line)\n",
    "            full_data_rows_list.append(line) \n",
    "            \n",
    "\n",
    "print(f\"Row count: {len(full_data_rows_list)}\")\n",
    "\n",
    "# creating a smaller event data csv file called event_datafile_full csv that will be used to insert data into the \\\n",
    "# Apache Cassandra tables - Old code\n",
    "# csv.register_dialect('myDialect', quoting=csv.QUOTE_ALL, skipinitialspace=True)\n",
    "# with open('event_datafile_new.csv', 'w', encoding = 'utf8', newline='') as f:\n",
    "#     writer = csv.writer(f, dialect='myDialect')\n",
    "#     writer.writerow(['artist','firstName','gender','itemInSession','lastName','length',\\\n",
    "#                 'level','location','sessionId','song','userId'])\n",
    "#     for row in full_data_rows_list:\n",
    "#         if (row[0] == ''):\n",
    "#             continue\n",
    "#         writer.writerow((row[0], row[2], row[3], row[4], row[5], row[6], row[7], row[8], row[12], row[13], row[16]))\n",
    "        \n",
    "full_rows_df = pd.DataFrame(([row[0], row[2], row[3], row[4], row[5], row[6], row[7], row[8], row[12], row[13], row[16]] for row in full_data_rows_list), \n",
    "             columns = ['artist','firstName','gender','itemInSession','lastName','length','level','location','sessionId','song','userId'])\n",
    "\n",
    "# Can't drop empty strings directly, so replace with nan before dropping\n",
    "full_rows_df.replace('', np.nan, inplace=True)\n",
    "full_rows_df.dropna(inplace=True)\n",
    "full_rows_df.to_csv('event_datafile_df.csv', quoting=csv.QUOTE_ALL, encoding='utf8', index=False)\n",
    "\n",
    "# Uncomment the code below to rename columns and create 3 separate files for running the CQLSH COPY command\n",
    "full_rows_df.rename(columns={'firstName': 'first_name', 'itemInSession': 'item_in_session', 'length': 'song_length',\n",
    "                             'lastName': 'last_name', 'sessionId': 'session_id', 'userId': 'user_id'}, inplace=True)\n",
    "\n",
    "# Query 1 CSV\n",
    "full_rows_df[['artist', 'song', 'song_length', 'session_id', 'item_in_session']].to_csv('event_datafile_songplay_session.csv', quoting=csv.QUOTE_ALL, encoding='utf8', index=False)\n",
    "\n",
    "# Query 2 CSV\n",
    "full_rows_df[['artist', 'song', 'first_name', 'last_name', 'user_id', 'item_in_session', 'session_id']].to_csv('event_datafile_songplay_user_session.csv', quoting=csv.QUOTE_ALL, encoding='utf8', index=False)\n",
    "\n",
    "# Query 3 CSV\n",
    "full_rows_df[['user_id', 'song', 'first_name', 'last_name']].to_csv('event_datafile_user_song_history.csv', quoting=csv.QUOTE_ALL, encoding='utf8', index=False)\n"
   ]
  },
  {
   "cell_type": "code",
   "execution_count": 38,
   "metadata": {
    "editable": true
   },
   "outputs": [
    {
     "name": "stdout",
     "output_type": "stream",
     "text": [
      "6821\n"
     ]
    }
   ],
   "source": [
    "# check the number of rows in your csv file - old csv file referred\n",
    "# with open('event_datafile_new.csv', 'r', encoding = 'utf8') as f:\n",
    "#     print(sum(1 for line in f))\n",
    "\n",
    "with open('event_datafile_df.csv', 'r', encoding = 'utf8') as f:\n",
    "    print(sum(1 for line in f))\n"
   ]
  },
  {
   "cell_type": "markdown",
   "metadata": {
    "editable": true
   },
   "source": [
    "# Part II. Complete the Apache Cassandra coding portion of your project. \n",
    "\n",
    "## Now you are ready to work with the CSV file titled <font color=red>event_datafile_new.csv</font>, located within the Workspace directory.  The event_datafile_new.csv contains the following columns: \n",
    "- artist \n",
    "- firstName of user\n",
    "- gender of user\n",
    "- item number in session\n",
    "- last name of user\n",
    "- length of the song\n",
    "- level (paid or free song)\n",
    "- location of the user\n",
    "- sessionId\n",
    "- song title\n",
    "- userId\n",
    "\n",
    "The image below is a screenshot of what the denormalized data should appear like in the <font color=red>**event_datafile_new.csv**</font> after the code above is run:<br>\n",
    "\n",
    "<img src=\"images/image_event_datafile_new.jpg\">"
   ]
  },
  {
   "cell_type": "markdown",
   "metadata": {
    "editable": true
   },
   "source": [
    "### Getting spread statistics to optimize choice of clustering columns\n",
    "\n",
    "Spread statistics (value_counts, mode, variance, standard deviation) provide an idea of how the data is distributed.\n",
    "For text columns, we can compute mode and value_counts"
   ]
  },
  {
   "cell_type": "code",
   "execution_count": 39,
   "metadata": {
    "editable": true
   },
   "outputs": [
    {
     "data": {
      "text/html": [
       "<div>\n",
       "<style scoped>\n",
       "    .dataframe tbody tr th:only-of-type {\n",
       "        vertical-align: middle;\n",
       "    }\n",
       "\n",
       "    .dataframe tbody tr th {\n",
       "        vertical-align: top;\n",
       "    }\n",
       "\n",
       "    .dataframe thead th {\n",
       "        text-align: right;\n",
       "    }\n",
       "</style>\n",
       "<table border=\"1\" class=\"dataframe\">\n",
       "  <thead>\n",
       "    <tr style=\"text-align: right;\">\n",
       "      <th></th>\n",
       "      <th>itemInSession</th>\n",
       "      <th>userId</th>\n",
       "      <th>sessionId</th>\n",
       "      <th>artist</th>\n",
       "    </tr>\n",
       "  </thead>\n",
       "  <tbody>\n",
       "    <tr>\n",
       "      <th>No of distinct values (value counts)</th>\n",
       "      <td>123</td>\n",
       "      <td>96</td>\n",
       "      <td>776</td>\n",
       "      <td>3148</td>\n",
       "    </tr>\n",
       "    <tr>\n",
       "      <th>Most frequent occurrence (mode)</th>\n",
       "      <td>1</td>\n",
       "      <td>49</td>\n",
       "      <td>589</td>\n",
       "      <td>Coldplay</td>\n",
       "    </tr>\n",
       "  </tbody>\n",
       "</table>\n",
       "</div>"
      ],
      "text/plain": [
       "                                      itemInSession  userId  sessionId  \\\n",
       "No of distinct values (value counts)            123      96        776   \n",
       "Most frequent occurrence (mode)                   1      49        589   \n",
       "\n",
       "                                        artist  \n",
       "No of distinct values (value counts)      3148  \n",
       "Most frequent occurrence (mode)       Coldplay  "
      ]
     },
     "execution_count": 39,
     "metadata": {},
     "output_type": "execute_result"
    }
   ],
   "source": [
    "df = pd.read_csv('event_datafile_new.csv')\n",
    "headers = ['itemInSession', 'userId', 'sessionId', 'artist']\n",
    "\n",
    "stats_dict = { header : [len(df[header].value_counts()), df[header].mode()[0]] for header in headers}\n",
    "pd.DataFrame(stats_dict, index=['No of distinct values (value counts)', 'Most frequent occurrence (mode)'])"
   ]
  },
  {
   "cell_type": "markdown",
   "metadata": {
    "editable": true
   },
   "source": [
    "## Begin writing your Apache Cassandra code in the cells below"
   ]
  },
  {
   "cell_type": "markdown",
   "metadata": {
    "editable": true
   },
   "source": [
    "#### Creating a Cluster"
   ]
  },
  {
   "cell_type": "code",
   "execution_count": 40,
   "metadata": {
    "editable": true
   },
   "outputs": [],
   "source": [
    "# This should make a connection to a Cassandra instance your local machine \n",
    "# (127.0.0.1)\n",
    "\n",
    "from cassandra.cluster import Cluster\n",
    "cluster = Cluster(['127.0.0.1'])\n",
    "\n",
    "# To establish connection and begin executing queries, need a session\n",
    "session = cluster.connect()"
   ]
  },
  {
   "cell_type": "markdown",
   "metadata": {
    "editable": true
   },
   "source": [
    "#### Create Keyspace"
   ]
  },
  {
   "cell_type": "code",
   "execution_count": 41,
   "metadata": {
    "editable": true
   },
   "outputs": [],
   "source": [
    "try:\n",
    "    session.execute(\"\"\"\n",
    "                    CREATE KEYSPACE IF NOT EXISTS udacity \n",
    "                    WITH REPLICATION = \n",
    "                    { 'class' : 'SimpleStrategy', 'replication_factor' : 1 }\n",
    "                    \"\"\")\n",
    "\n",
    "except Exception as e:\n",
    "    print(e)"
   ]
  },
  {
   "cell_type": "markdown",
   "metadata": {
    "editable": true
   },
   "source": [
    "#### Set Keyspace"
   ]
  },
  {
   "cell_type": "code",
   "execution_count": 42,
   "metadata": {
    "editable": true
   },
   "outputs": [],
   "source": [
    "try:\n",
    "    session.set_keyspace('udacity')\n",
    "except Exception as e:\n",
    "    print(e)"
   ]
  },
  {
   "cell_type": "markdown",
   "metadata": {
    "editable": true
   },
   "source": [
    "### Now we need to create tables to run the following queries. Remember, with Apache Cassandra you model the database tables on the queries you want to run."
   ]
  },
  {
   "cell_type": "markdown",
   "metadata": {
    "editable": true
   },
   "source": [
    "## Create queries to ask the following three questions of the data\n",
    "\n",
    "### 1. Give me the artist, song title and song's length in the music app history that was heard during  sessionId = 338, and itemInSession  = 4\n",
    "\n",
    "\n",
    "### 2. Give me only the following: name of artist, song (sorted by itemInSession) and user (first and last name) for userid = 10, sessionid = 182\n",
    "    \n",
    "\n",
    "### 3. Give me every user name (first and last) in my music app history who listened to the song 'All Hands Against His Own'\n",
    "\n",
    "\n"
   ]
  },
  {
   "cell_type": "code",
   "execution_count": 43,
   "metadata": {
    "editable": true
   },
   "outputs": [],
   "source": [
    "## Writing the queries below for easing data modeling process\n",
    "## Query 1:  Give me the artist, song title and song's length in the music app history that was heard during \\\n",
    "## sessionId = 338, and itemInSession = 4\n",
    "## Query1 : \"SELECT artist, song, length FROM songplay_session WHERE session_id = 338 AND item_in_session = 4\"\n",
    "## Query2 :  \"SELECT artist, song,first_name, last_name AS full_name FROM songplay_user_session WHERE user_id = 10 AND session_id = 182\"\n",
    "## Query3 : \"SELECT first_name, last_name FROM user_song_history WHERE song = 'All Hands Against His Own'\"                  "
   ]
  },
  {
   "cell_type": "markdown",
   "metadata": {
    "editable": true
   },
   "source": [
    "### Create Table Queries"
   ]
  },
  {
   "cell_type": "code",
   "execution_count": 44,
   "metadata": {
    "editable": true
   },
   "outputs": [],
   "source": [
    "# Bundling create queries at the beginning for easier reading\n",
    "create_query1 = \"\"\"\n",
    "                CREATE TABLE IF NOT EXISTS songplay_session (\n",
    "                    artist text,\n",
    "                    song text,\n",
    "                    song_length float,\n",
    "                    session_id int,\n",
    "                    item_in_session int,\n",
    "                    PRIMARY KEY (item_in_session, session_id)\n",
    "                );\n",
    "                \"\"\"\n",
    "\n",
    "create_query2 = \"\"\"\n",
    "                CREATE TABLE IF NOT EXISTS songplay_user_session (\n",
    "                    artist text,\n",
    "                    song text,\n",
    "                    first_name text,\n",
    "                    last_name text,\n",
    "                    user_id int,\n",
    "                    item_in_session int,\n",
    "                    session_id int,\n",
    "                    PRIMARY KEY ((user_id, session_id), item_in_session)\n",
    "                ) \n",
    "                WITH CLUSTERING ORDER BY (item_in_session asc);\n",
    "                \"\"\"\n",
    "\n",
    "create_query3 = \"\"\"\n",
    "                CREATE TABLE IF NOT EXISTS user_song_history (\n",
    "                    user_id int,\n",
    "                    song text,\n",
    "                    first_name text,\n",
    "                    last_name text,\n",
    "                    PRIMARY KEY (song, first_name, last_name, user_id)\n",
    "                );\n",
    "                \"\"\"\n",
    "try:\n",
    "    session.execute(create_query1);\n",
    "    session.execute(create_query2);\n",
    "    session.execute(create_query3);\n",
    "except Exception:\n",
    "    traceback.print_exc()"
   ]
  },
  {
   "cell_type": "code",
   "execution_count": 69,
   "metadata": {
    "editable": true
   },
   "outputs": [
    {
     "name": "stdout",
     "output_type": "stream",
     "text": [
      "Size of csv file: 827.4326171875 KB\n"
     ]
    }
   ],
   "source": [
    "# Comment this entire cell out to load via cqlsh COPY command\n",
    "\n",
    "# Read csv file and insert from data into table 1 for query 1\n",
    "file = \"event_datafile_df.csv\"\n",
    "\n",
    "\n",
    "insert_query1 = \"\"\"\n",
    "                    INSERT INTO songplay_session (artist, song, song_length, session_id, item_in_session)\n",
    "                    VALUES (%s, %s, %s, %s, %s);\n",
    "                \"\"\"\n",
    "insert_query2 = \"\"\"\n",
    "                    INSERT INTO songplay_user_session (artist, song, first_name, last_name, user_id, item_in_session, session_id)\n",
    "                    VALUES (%s, %s, %s, %s, %s, %s, %s);\n",
    "                \"\"\"\n",
    "insert_query3 = \"\"\"\n",
    "                    INSERT INTO user_song_history (user_id, song, first_name, last_name)\n",
    "                    VALUES (%s, %s, %s, %s);\n",
    "                \"\"\"\n",
    "print(f\"Size of csv file: {os.stat(file).st_size/1024} KB\")\n",
    "\n",
    "# Chunking reads file in blocks to prevent memory load/possible crashing\n",
    "try:\n",
    "    # If reading a large csv, pass chunksize parameter and iterate through chunks\n",
    "    # with for chunk in df_chunks:\n",
    "    # If reading large CSV blobs from Amazon S3 or Azure Blob Storage, the byte streams would need to be chunked and decoded\n",
    "    # in utf8 format, before splitting on newline character \\n. This would create a partial chunk with half row and several complete rows\n",
    "\n",
    "    df = pd.read_csv(file, encoding = \"utf8\")\n",
    "    \n",
    "    for index, row in df.iterrows():\n",
    "        session.execute(insert_query1, (row[\"artist\"], row[\"song\"], row[\"length\"], row[\"sessionId\"], row[\"itemInSession\"]))\n",
    "        session.execute(insert_query2, (row[\"artist\"], row[\"song\"], row[\"firstName\"], row[\"lastName\"], \n",
    "                                            row[\"userId\"], row[\"itemInSession\"], row[\"sessionId\"]))\n",
    "        session.execute(insert_query3, (row[\"userId\"], row[\"song\"], row[\"firstName\"], row[\"lastName\"]))\n",
    "\n",
    "except Exception:\n",
    "        traceback.print_exc()"
   ]
  },
  {
   "cell_type": "code",
   "execution_count": 45,
   "metadata": {
    "editable": true
   },
   "outputs": [
    {
     "name": "stdout",
     "output_type": "stream",
     "text": [
      "Using 1 child processes\n",
      "\n",
      "Starting copy of udacity.songplay_session with columns [artist, song, song_length, session_id, item_in_session].\n",
      "Processed: 5000 rows; Rate:    3362 rows/s; Avg. rate:    3362 rows/sProcessed: 6820 rows; Rate:    3621 rows/s; Avg. rate:    3486 rows/sProcessed: 6820 rows; Rate:    1811 rows/s; Avg. rate:    3316 rows/s\n",
      "6820 rows imported from 1 files in 2.057 seconds (0 skipped).\n",
      "Using 1 child processes\n",
      "\n",
      "Starting copy of udacity.songplay_user_session with columns [artist, song, first_name, last_name, user_id, item_in_session, session_id].\n",
      "Processed: 5000 rows; Rate:    3080 rows/s; Avg. rate:    3080 rows/sProcessed: 6820 rows; Rate:    3245 rows/s; Avg. rate:    3162 rows/sProcessed: 6820 rows; Rate:    1623 rows/s; Avg. rate:    3021 rows/s\n",
      "6820 rows imported from 1 files in 2.258 seconds (0 skipped).\n",
      "Using 1 child processes\n",
      "\n",
      "Starting copy of udacity.user_song_history with columns [user_id, song, first_name, last_name].\n",
      "Processed: 5000 rows; Rate:    3058 rows/s; Avg. rate:    3058 rows/sProcessed: 6820 rows; Rate:    2960 rows/s; Avg. rate:    3003 rows/sProcessed: 6820 rows; Rate:    1480 rows/s; Avg. rate:    2876 rows/s\n",
      "6820 rows imported from 1 files in 2.372 seconds (0 skipped).\n"
     ]
    }
   ],
   "source": [
    "songplay_session_file_name = 'event_datafile_songplay_session.csv'\n",
    "songplay_user_session_file_name = 'event_datafile_songplay_user_session.csv'\n",
    "user_song_history_file_name = 'event_datafile_user_song_history.csv'\n",
    "\n",
    "# COPY command to upload rows at high speed\n",
    "!cqlsh -e \"COPY udacity.songplay_session(artist, song, song_length, session_id, item_in_session) FROM '{songplay_session_file_name}' WITH header=TRUE\" \n",
    "\n",
    "!cqlsh -e \"COPY udacity.songplay_user_session(artist, song, first_name, last_name, user_id, item_in_session, session_id) FROM '{songplay_user_session_file_name}' WITH header=TRUE\"\n",
    "\n",
    "!cqlsh -e \"COPY udacity.user_song_history(user_id, song, first_name, last_name) FROM '{user_song_history_file_name}' WITH header=TRUE\""
   ]
  },
  {
   "cell_type": "markdown",
   "metadata": {
    "editable": true
   },
   "source": [
    "### Query 1. artist, song title and song's length in the music app history that was heard during  sessionId = 338, and itemInSession  = 4"
   ]
  },
  {
   "cell_type": "code",
   "execution_count": 46,
   "metadata": {
    "editable": true,
    "scrolled": true
   },
   "outputs": [
    {
     "name": "stdout",
     "output_type": "stream",
     "text": [
      "('Faithless', 'Music Matters (Mark Knight Dub)', 495.30731201171875)\n"
     ]
    }
   ],
   "source": [
    "## SELECT statement to verify the data was entered into the table\n",
    "select_query1 = \"\"\" SELECT artist, song, song_length\n",
    "                    FROM songplay_session \n",
    "                    WHERE session_id = 338\n",
    "                    AND item_in_session = 4;\n",
    "                \"\"\"\n",
    "try:\n",
    "    rows = session.execute(select_query1)\n",
    "except Exception:\n",
    "    traceback.print_exc()\n",
    "    \n",
    "for row in rows:\n",
    "    print ((row.artist, row.song, row.song_length))"
   ]
  },
  {
   "cell_type": "markdown",
   "metadata": {
    "editable": true
   },
   "source": [
    "### Query2: name of artist, song (sorted by itemInSession) and user (first and last name) for userid = 10, sessionid = 182"
   ]
  },
  {
   "cell_type": "code",
   "execution_count": 47,
   "metadata": {
    "editable": true
   },
   "outputs": [
    {
     "name": "stdout",
     "output_type": "stream",
     "text": [
      "('Down To The Bone', \"Keep On Keepin' On\", 'Sylvie Cruz')\n",
      "('Three Drives', 'Greece 2000', 'Sylvie Cruz')\n",
      "('Sebastien Tellier', 'Kilometer', 'Sylvie Cruz')\n",
      "('Lonnie Gordon', 'Catch You Baby (Steve Pitron & Max Sanna Radio Edit)', 'Sylvie Cruz')\n"
     ]
    }
   ],
   "source": [
    "## SELECT statement to verify the data was entered into the table\n",
    "select_query2 = \"\"\" SELECT artist, song, first_name, last_name\n",
    "                    FROM songplay_user_session \n",
    "                    WHERE user_id = 10\n",
    "                    AND session_id = 182\n",
    "                    ORDER BY item_in_session;\n",
    "                \"\"\"\n",
    "try:\n",
    "    rows = session.execute(select_query2)\n",
    "except Exception:\n",
    "    traceback.print_exc()\n",
    "    \n",
    "for row in rows:\n",
    "    print ((row.artist, row.song, row.first_name + \" \" + row.last_name))"
   ]
  },
  {
   "cell_type": "markdown",
   "metadata": {
    "editable": true
   },
   "source": [
    "### Query 3:every user name (first and last) in my music app history who listened to the song 'All Hands Against His Own'"
   ]
  },
  {
   "cell_type": "code",
   "execution_count": 48,
   "metadata": {
    "editable": true
   },
   "outputs": [
    {
     "name": "stdout",
     "output_type": "stream",
     "text": [
      "Jacqueline Lynch\n",
      "Sara Johnson\n",
      "Tegan Levine\n"
     ]
    }
   ],
   "source": [
    "## SELECT statement to verify the data was entered into the table\n",
    "select_query3 = \"\"\" SELECT first_name, last_name\n",
    "                    FROM user_song_history \n",
    "                    WHERE song = 'All Hands Against His Own' ;\n",
    "                \"\"\"\n",
    "try:\n",
    "    rows = session.execute(select_query3)\n",
    "except Exception:\n",
    "    traceback.print_exc()\n",
    "    \n",
    "for row in rows:\n",
    "    print (row.first_name + \" \" + row.last_name)\n"
   ]
  },
  {
   "cell_type": "code",
   "execution_count": 74,
   "metadata": {
    "editable": true
   },
   "outputs": [
    {
     "name": "stdout",
     "output_type": "stream",
     "text": [
      "Time taken to read, insert and select queries: 25.321012020111084 s\n"
     ]
    }
   ],
   "source": [
    "end_time = time.time()\n",
    "print(f\"Time taken to read, insert and select queries: {end_time - start_time} s\")"
   ]
  },
  {
   "cell_type": "markdown",
   "metadata": {
    "editable": true
   },
   "source": [
    "### Drop the tables before closing out the sessions"
   ]
  },
  {
   "cell_type": "code",
   "execution_count": 49,
   "metadata": {
    "editable": true
   },
   "outputs": [],
   "source": [
    "drop_query1 = \"\"\" DROP TABLE IF EXISTS songplay_session;\"\"\"\n",
    "drop_query2 = \"\"\" DROP TABLE IF EXISTS songplay_user_session;\"\"\"\n",
    "drop_query3 = \"\"\" DROP TABLE IF EXISTS user_song_history;\"\"\"\n",
    "session.execute(drop_query1);\n",
    "session.execute(drop_query2);\n",
    "session.execute(drop_query3);"
   ]
  },
  {
   "cell_type": "markdown",
   "metadata": {
    "editable": true
   },
   "source": [
    "### Close the session and cluster connection"
   ]
  },
  {
   "cell_type": "code",
   "execution_count": 50,
   "metadata": {
    "editable": true
   },
   "outputs": [],
   "source": [
    "session.shutdown()\n",
    "cluster.shutdown()"
   ]
  },
  {
   "cell_type": "code",
   "execution_count": null,
   "metadata": {
    "editable": true
   },
   "outputs": [],
   "source": []
  }
 ],
 "metadata": {
  "kernelspec": {
   "display_name": "Python 3",
   "language": "python",
   "name": "python3"
  },
  "language_info": {
   "codemirror_mode": {
    "name": "ipython",
    "version": 3
   },
   "file_extension": ".py",
   "mimetype": "text/x-python",
   "name": "python",
   "nbconvert_exporter": "python",
   "pygments_lexer": "ipython3",
   "version": "3.6.3"
  }
 },
 "nbformat": 4,
 "nbformat_minor": 4
}
